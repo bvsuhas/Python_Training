{
 "cells": [
  {
   "cell_type": "code",
   "execution_count": 1,
   "metadata": {},
   "outputs": [],
   "source": [
    "# write a program to add two  integers 10 , 20"
   ]
  },
  {
   "cell_type": "code",
   "execution_count": 1,
   "metadata": {},
   "outputs": [
    {
     "name": "stdout",
     "output_type": "stream",
     "text": [
      "30\n"
     ]
    }
   ],
   "source": [
    "a = 10\n",
    "b = 20\n",
    "\n",
    "c = a + b\n",
    "print(c)"
   ]
  },
  {
   "cell_type": "code",
   "execution_count": 2,
   "metadata": {},
   "outputs": [],
   "source": [
    "# Write a program to find the type of a, b ,c where a=2, b=2.8,c=\"John\""
   ]
  },
  {
   "cell_type": "code",
   "execution_count": 2,
   "metadata": {},
   "outputs": [
    {
     "name": "stdout",
     "output_type": "stream",
     "text": [
      "<class 'int'>\n",
      "<class 'float'>\n",
      "<class 'str'>\n"
     ]
    }
   ],
   "source": [
    "a = 2\n",
    "b = 2.8\n",
    "c = \"john\"\n",
    "\n",
    "print(type(a))\n",
    "print(type(b))\n",
    "print(type(c))"
   ]
  },
  {
   "cell_type": "code",
   "execution_count": 3,
   "metadata": {},
   "outputs": [],
   "source": [
    "# Write a program to swap the two numbers , where a=2 ,b=4 the program should print a= 4 ,b=2"
   ]
  },
  {
   "cell_type": "code",
   "execution_count": 57,
   "metadata": {},
   "outputs": [
    {
     "name": "stdout",
     "output_type": "stream",
     "text": [
      "Swapped values: a = 4 , b = 2\n"
     ]
    }
   ],
   "source": [
    "a=2\n",
    "b=4\n",
    "a, b = b, a\n",
    "print(\"Swapped values: a =\", a, \", b =\", b)"
   ]
  },
  {
   "cell_type": "code",
   "execution_count": 56,
   "metadata": {},
   "outputs": [],
   "source": [
    "# Write a program to swap the two numbers , using 3 variables"
   ]
  },
  {
   "cell_type": "code",
   "execution_count": 58,
   "metadata": {},
   "outputs": [
    {
     "name": "stdout",
     "output_type": "stream",
     "text": [
      "Swapped values: a = 4 , b = 2\n"
     ]
    }
   ],
   "source": [
    "a = 2\n",
    "b = 4\n",
    "temp = a\n",
    "a = b\n",
    "b = temp\n",
    "\n",
    "print(\"Swapped values: a =\", a, \", b =\", b)\n"
   ]
  },
  {
   "cell_type": "code",
   "execution_count": 5,
   "metadata": {},
   "outputs": [],
   "source": [
    "# Write a program to print the numerator and denominator , quotient and remainder"
   ]
  },
  {
   "cell_type": "code",
   "execution_count": 59,
   "metadata": {},
   "outputs": [
    {
     "name": "stdout",
     "output_type": "stream",
     "text": [
      "Enter the numerator:  45\n",
      "Enter the denominator:  5\n"
     ]
    },
    {
     "name": "stdout",
     "output_type": "stream",
     "text": [
      "The Numerator Valuse is : 45\n",
      "The Denominator value is: 5\n",
      "The Quotient Value is : 9\n",
      "The Remainder Value is : 0\n"
     ]
    }
   ],
   "source": [
    "numerator = int(input(\"Enter the numerator: \"))\n",
    "denominator = int(input(\"Enter the denominator: \"))\n",
    "\n",
    "\n",
    "quotient = numerator // denominator\n",
    "remainder = numerator % denominator\n",
    "\n",
    "\n",
    "print(\"The Numerator Valuse is :\",numerator)\n",
    "print(\"The Denominator value is:\" ,denominator)\n",
    "print(\"The Quotient Value is :\", quotient)\n",
    "print(\"The Remainder Value is :\", remainder)"
   ]
  },
  {
   "cell_type": "code",
   "execution_count": 6,
   "metadata": {},
   "outputs": [],
   "source": [
    "# Write a program to calculate simple interst , si =p*n*r/100"
   ]
  },
  {
   "cell_type": "code",
   "execution_count": 50,
   "metadata": {},
   "outputs": [
    {
     "name": "stdout",
     "output_type": "stream",
     "text": [
      "Enter the Prinsipal Amount: 300000\n",
      "Enter the Number of Year: 7\n",
      "Enter the Rate of intrest: 12\n"
     ]
    },
    {
     "name": "stdout",
     "output_type": "stream",
     "text": [
      "The Amount you will get After Simple_intrest is : 252000.0 ruppes.\n"
     ]
    }
   ],
   "source": [
    "principal =int(input(\"Enter the Prinsipal Amount:\"))\n",
    "Years = int(input(\"Enter the Number of Year:\"))\n",
    "Intrest = float(input(\"Enter the Rate of intrest:\"))\n",
    "\n",
    "Simple_intrest = (principal*Years*Intrest)/100\n",
    "print(\"The Amount you will get After Simple_intrest is :\",Simple_intrest, \"ruppes.\")\n",
    "         \n",
    "\n",
    "      "
   ]
  },
  {
   "cell_type": "code",
   "execution_count": 7,
   "metadata": {},
   "outputs": [],
   "source": [
    "# Write a program to calculate the area and circumference of a circle ,area=3.14*radius*radius , circumference=2*3.14*r"
   ]
  },
  {
   "cell_type": "code",
   "execution_count": 27,
   "metadata": {},
   "outputs": [
    {
     "name": "stdout",
     "output_type": "stream",
     "text": [
      "Enter the Radius of the Circle: 5\n"
     ]
    },
    {
     "name": "stdout",
     "output_type": "stream",
     "text": [
      "78.5\n",
      "31.400000000000002\n"
     ]
    }
   ],
   "source": [
    "radius = float(input(\"Enter the Radius of the Circle:\"))\n",
    "Area = 3.14*radius*radius\n",
    "print(Area)\n",
    "\n",
    "Circumference = 2*3.14*radius\n",
    "print(Circumference)"
   ]
  },
  {
   "cell_type": "code",
   "execution_count": 8,
   "metadata": {},
   "outputs": [],
   "source": [
    "# Write a program to convert Celcius to Fariehiet , fariienhiet=1.8*celcius+32"
   ]
  },
  {
   "cell_type": "code",
   "execution_count": 30,
   "metadata": {},
   "outputs": [
    {
     "name": "stdout",
     "output_type": "stream",
     "text": [
      "Enter the Celcius Value: 34\n"
     ]
    },
    {
     "name": "stdout",
     "output_type": "stream",
     "text": [
      "The fariienhiet value is 93.2\n"
     ]
    }
   ],
   "source": [
    "clelcius=float(input(\"Enter the Celcius Value:\"))\n",
    "fariienhiet = 1.8*clelcius+32\n",
    "print(\"The fariienhiet value is\" ,fariienhiet) "
   ]
  },
  {
   "cell_type": "code",
   "execution_count": 9,
   "metadata": {},
   "outputs": [],
   "source": [
    "# Write a program to find whether given number is odd or even"
   ]
  },
  {
   "cell_type": "code",
   "execution_count": 40,
   "metadata": {},
   "outputs": [
    {
     "name": "stdout",
     "output_type": "stream",
     "text": [
      "Enter the value: 9\n"
     ]
    },
    {
     "name": "stdout",
     "output_type": "stream",
     "text": [
      "The number 9 is Odd.\n"
     ]
    }
   ],
   "source": [
    "user_input = int(input(\"Enter the value:\"))\n",
    "if user_input % 2 == 0:\n",
    "    print(\"The number\" ,user_input, \"is Even.\")\n",
    "else:\n",
    "    print(\"The number\" ,user_input, \"is Odd.\")\n",
    "\n"
   ]
  },
  {
   "cell_type": "code",
   "execution_count": 10,
   "metadata": {},
   "outputs": [],
   "source": [
    "# Write a program to check whether the person can vote or not"
   ]
  },
  {
   "cell_type": "code",
   "execution_count": 44,
   "metadata": {},
   "outputs": [
    {
     "name": "stdout",
     "output_type": "stream",
     "text": [
      "Enter the Name: suhas\n",
      "Enter the Age: 12\n"
     ]
    },
    {
     "name": "stdout",
     "output_type": "stream",
     "text": [
      "Hey suhas you are Not Eligible to Vote :)\n"
     ]
    }
   ],
   "source": [
    "person_name = input(\"Enter the Name:\")\n",
    "age = int(input(\"Enter the Age:\"))\n",
    "\n",
    "if age >= 18:\n",
    "    print(\"Hey\",person_name, \"you are Eligible to Vote (:\")\n",
    "else:\n",
    "    print(\"Hey\",person_name, \"you are Not Eligible to Vote :)\")   \n",
    "          \n",
    "\n"
   ]
  },
  {
   "cell_type": "code",
   "execution_count": 11,
   "metadata": {},
   "outputs": [],
   "source": [
    "# Write a program to find whether the given number is odd or even"
   ]
  },
  {
   "cell_type": "code",
   "execution_count": 45,
   "metadata": {},
   "outputs": [
    {
     "name": "stdout",
     "output_type": "stream",
     "text": [
      "Enter the value: 2\n"
     ]
    },
    {
     "name": "stdout",
     "output_type": "stream",
     "text": [
      "The number 2 is Even.\n"
     ]
    }
   ],
   "source": [
    "user_input = int(input(\"Enter the value:\"))\n",
    "if user_input % 2 == 0:\n",
    "    print(\"The number\" ,user_input, \"is Even.\")\n",
    "else:\n",
    "    print(\"The number\" ,user_input, \"is Odd.\")"
   ]
  },
  {
   "cell_type": "code",
   "execution_count": 12,
   "metadata": {},
   "outputs": [],
   "source": [
    "# Write a program to find whether the given year is leap year or not ?"
   ]
  },
  {
   "cell_type": "code",
   "execution_count": null,
   "metadata": {},
   "outputs": [],
   "source": [
    "a=int(input(\"Enter a year: \"))\n",
    "if (a % 4 == 0) and (a % 100 != 0 or a % 400 == 0):\n",
    "    print(a, \"is a leap year.\")\n",
    "else:\n",
    "    print(a, \"is not a leap year.\")"
   ]
  },
  {
   "cell_type": "code",
   "execution_count": 47,
   "metadata": {},
   "outputs": [
    {
     "name": "stdout",
     "output_type": "stream",
     "text": [
      "Enter the first number:  34\n",
      "Enter the second number:  43\n",
      "Enter the third number:  44\n"
     ]
    },
    {
     "name": "stdout",
     "output_type": "stream",
     "text": [
      "The biggest number among 34.0 43.0 and 44.0 is 44.0\n"
     ]
    }
   ],
   "source": [
    "# Write a program to find the bigeest of three numbers\n",
    "\n",
    "a = float(input(\"Enter the first number: \"))\n",
    "b = float(input(\"Enter the second number: \"))\n",
    "c = float(input(\"Enter the third number: \"))\n",
    "\n",
    "if a >= b and a >= c:\n",
    "    biggest = a\n",
    "elif b >= a and b >= c:\n",
    "    biggest = b\n",
    "else:\n",
    "    biggest = c\n",
    "\n",
    "print(\"The biggest number among\" ,a,b, \"and\",c, \"is\" ,biggest)\n"
   ]
  }
 ],
 "metadata": {
  "kernelspec": {
   "display_name": "Python 3 (ipykernel)",
   "language": "python",
   "name": "python3"
  },
  "language_info": {
   "codemirror_mode": {
    "name": "ipython",
    "version": 3
   },
   "file_extension": ".py",
   "mimetype": "text/x-python",
   "name": "python",
   "nbconvert_exporter": "python",
   "pygments_lexer": "ipython3",
   "version": "3.13.5"
  }
 },
 "nbformat": 4,
 "nbformat_minor": 4
}
